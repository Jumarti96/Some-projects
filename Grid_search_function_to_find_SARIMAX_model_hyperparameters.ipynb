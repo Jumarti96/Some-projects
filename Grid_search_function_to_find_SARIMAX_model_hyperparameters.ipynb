{
  "nbformat": 4,
  "nbformat_minor": 0,
  "metadata": {
    "colab": {
      "provenance": [],
      "authorship_tag": "ABX9TyNq0TH36TDuL3FTOSyzmQsr",
      "include_colab_link": true
    },
    "kernelspec": {
      "name": "python3",
      "display_name": "Python 3"
    },
    "language_info": {
      "name": "python"
    }
  },
  "cells": [
    {
      "cell_type": "markdown",
      "metadata": {
        "id": "view-in-github",
        "colab_type": "text"
      },
      "source": [
        "<a href=\"https://colab.research.google.com/github/Jumarti96/Some-projects/blob/main/Grid_search_function_to_find_SARIMAX_model_hyperparameters.ipynb\" target=\"_parent\"><img src=\"https://colab.research.google.com/assets/colab-badge.svg\" alt=\"Open In Colab\"/></a>"
      ]
    },
    {
      "cell_type": "markdown",
      "source": [
        "# ***Grid Search Function to Find Ideal SARIMAX Hyperparameters***\n",
        "\n",
        "Just as the title suggest, t"
      ],
      "metadata": {
        "id": "kZAMuK8K4gzL"
      }
    },
    {
      "cell_type": "code",
      "execution_count": null,
      "metadata": {
        "id": "iumfqwEQ34cE"
      },
      "outputs": [],
      "source": [
        "# evaluate a SARIMA model for a given order (p,d,q) (P, D, Q, S)\n",
        "def evaluate_sarima_model(X, arima_order, seasonal_order, train_size=0.8):\n",
        "    # prepare training dataset\n",
        "    train_size = int(len(X) * train_size)\n",
        "    train, test = X[0:train_size], X[train_size:]\n",
        "    history = [x for x in train]\n",
        "    # make predictions\n",
        "    predictions = list()\n",
        "    for t in range(len(test)):\n",
        "      model = ARIMA(history, order=arima_order, seasonal_order=seasonal_order)\n",
        "      model_fit = model.fit()\n",
        "      yhat = model_fit.forecast()[0]\n",
        "      predictions.append(yhat)\n",
        "      history.append(test[t])\n",
        "    # calculate out of sample error\n",
        "    error = np.mean((test - predictions)**2)**(1/2)\n",
        "    return error"
      ]
    },
    {
      "cell_type": "code",
      "source": [
        "# evaluate combinations of p, d and q values for an ARIMA model\n",
        "def evaluate_models(dataset, p_values, d_values, q_values, P_values, D_values, Q_values, S_values):\n",
        "  dataset = dataset.astype('float32')\n",
        "  best_score, best_cfg, best_so = float(\"inf\"), None, None\n",
        "  for p in p_values:\n",
        "    for d in d_values:\n",
        "      for q in q_values:\n",
        "        for P in P_values:\n",
        "          for D in D_values:\n",
        "            for Q in Q_values:\n",
        "              for S in S_values:\n",
        "                order = (p, d, q)\n",
        "                seasonal_order = (P, D, Q, S)\n",
        "                try:\n",
        "                  rmse = evaluate_sarima_model(dataset, order, seasonal_order)\n",
        "                  if rmse < best_score:\n",
        "                    best_score, best_cfg, best_so = rmse, order, seasonal_order\n",
        "                  print('ARIMA%s RMSE=%.3f' % (order, seasonal_order, rmse))\n",
        "                except:\n",
        "                  continue\n",
        "  print('Best ARIMA%s %s RMSE=%.3f' % (best_cfg, best_so, best_score))"
      ],
      "metadata": {
        "id": "kWf18RSR4KiZ"
      },
      "execution_count": null,
      "outputs": []
    },
    {
      "cell_type": "markdown",
      "source": [
        "# ***Testing the function***\n",
        "\n",
        "To test how "
      ],
      "metadata": {
        "id": "tC0vPpJW4wVp"
      }
    },
    {
      "cell_type": "code",
      "source": [],
      "metadata": {
        "id": "6KfzQ36U49uQ"
      },
      "execution_count": null,
      "outputs": []
    }
  ]
}